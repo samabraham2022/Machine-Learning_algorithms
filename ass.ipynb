{
 "cells": [
  {
   "cell_type": "markdown",
   "metadata": {},
   "source": [
    "TO GET THE SIZE OF THE SET"
   ]
  },
  {
   "cell_type": "code",
   "execution_count": 1,
   "metadata": {},
   "outputs": [
    {
     "name": "stdout",
     "output_type": "stream",
     "text": [
      "Size of  ('A', 1, 2, 3, 4, 5, 'h', 'j')  =  52\n",
      "Size of  ('A', 1, 2, 3, 4, 5)  =  44\n"
     ]
    }
   ],
   "source": [
    "import sys\n",
    "set1 = (\"A\",1,2,3,4,5,\"h\",\"j\")\n",
    "set2 = (\"A\",1,2,3,4,5)\n",
    "print(\"Size of \",set1,\" = \",sys.getsizeof(set1))\n",
    "print(\"Size of \",set2,\" = \",sys.getsizeof(set2))\n"
   ]
  },
  {
   "cell_type": "markdown",
   "metadata": {},
   "source": [
    "ITERATING OVER THE SET"
   ]
  },
  {
   "cell_type": "code",
   "execution_count": 2,
   "metadata": {},
   "outputs": [
    {
     "name": "stdout",
     "output_type": "stream",
     "text": [
      "A 1 2 3 4 5 h j \n",
      "A 1 2 3 4 5 h j "
     ]
    }
   ],
   "source": [
    "set1 = (\"A\",1,2,3,4,5,\"h\",\"j\")\n",
    "for val in set1:\n",
    "    print(val,end=\" \")\n",
    "print()  \n",
    "for i in range(len(set1)):\n",
    "    print(set1[i],end=\" \")\n"
   ]
  },
  {
   "cell_type": "markdown",
   "metadata": {},
   "source": [
    "FIND THE MINIMUM AND MAXIMUM IN A SET"
   ]
  },
  {
   "cell_type": "code",
   "execution_count": 3,
   "metadata": {},
   "outputs": [
    {
     "name": "stdout",
     "output_type": "stream",
     "text": [
      "Maximum of Set =  423\n",
      "Minimum of the Set =  1\n",
      "Maximum of Set1 =  z\n",
      "Minimum of the Set1=  B\n"
     ]
    }
   ],
   "source": [
    "Set = set([1,5,63,4,3,23,423,42,34,5,3,43,4])\n",
    "Set1 = set([\"a\",\"B\",\"c\",\"d\",\"z\",\"Z\"])\n",
    "print(\"Maximum of Set = \" ,max(Set))\n",
    "print(\"Minimum of the Set = \",min(Set))\n",
    "print(\"Maximum of Set1 = \" ,max(Set1))\n",
    "print(\"Minimum of the Set1= \",min(Set1))"
   ]
  },
  {
   "cell_type": "markdown",
   "metadata": {},
   "source": [
    "REMOVE ITEMS FROM SET"
   ]
  },
  {
   "cell_type": "code",
   "execution_count": 4,
   "metadata": {},
   "outputs": [
    {
     "name": "stdout",
     "output_type": "stream",
     "text": [
      "TO REMOVE SPECIFIC VALUES\n",
      "BEFORE =  {1, 34, 3, 4, 5, 423, 42, 43, 23, 63}\n",
      "AFTER =  {1, 34, 3, 4, 423, 42, 43, 23, 63}\n"
     ]
    }
   ],
   "source": [
    "def Remove(val,Set):\n",
    "    for i in Set:\n",
    "        if i==val:\n",
    "            Set.remove(i)\n",
    "            break\n",
    "Set = set([1,5,63,4,3,23,423,42,34,5,3,43,4])\n",
    "print(\"TO REMOVE SPECIFIC VALUES\")\n",
    "print(\"BEFORE = \",Set)\n",
    "Remove(5,Set)\n",
    "print(\"AFTER = \",Set)"
   ]
  },
  {
   "cell_type": "markdown",
   "metadata": {},
   "source": [
    "To check if 2 list has any common element"
   ]
  },
  {
   "cell_type": "code",
   "execution_count": 5,
   "metadata": {},
   "outputs": [
    {
     "name": "stdout",
     "output_type": "stream",
     "text": [
      "True\n"
     ]
    }
   ],
   "source": [
    "a = [1,2,3,234,234,23,43,4,43,4,343,4,34,2,12,3,3432,42]\n",
    "b=[1009,1]\n",
    "res = False\n",
    "for i in a:\n",
    "    for j in b:\n",
    "        if i == j:\n",
    "            res =True\n",
    "            break\n",
    "    \n",
    "\n",
    "\n",
    "print(res)"
   ]
  },
  {
   "cell_type": "markdown",
   "metadata": {},
   "source": [
    "CSV MANIPULATION"
   ]
  },
  {
   "cell_type": "code",
   "execution_count": 9,
   "metadata": {},
   "outputs": [
    {
     "name": "stdout",
     "output_type": "stream",
     "text": [
      "   Sno  Regristation Number                     Name     RollNo Status\n",
      "0    1             11913907              Molly Singh  RK19TSA01      P\n",
      "1    2             11918698      Vaishnavi choudhary  RK19TSA02      P\n",
      "2    3             12000722            Animesh Singh  RK19TSA03      P\n",
      "3    4             12003178              Yash Panwar  RK19TSA04      P\n",
      "4    5             12005300           Kallem Kruthik  RK19TSA05      P\n",
      "5    6             11902981              Sam Abraham  20BCE0986      P\n",
      "6    7             11902825  Bhimavarapu Pavan Reddy  RK19TSA07      P\n",
      "7    8             11902721         Mainam Siddhardh  RK19TSA08      P\n"
     ]
    }
   ],
   "source": [
    "import pandas as pd\n",
    "df = pd.read_csv(\"trial.csv\")\n",
    "df.loc[5, 'Name'] = 'Sam Abraham'\n",
    "df.to_csv(\"trial.csv\", index=False)\n",
    "print(df)\n"
   ]
  },
  {
   "cell_type": "code",
   "execution_count": 5,
   "metadata": {},
   "outputs": [
    {
     "name": "stdout",
     "output_type": "stream",
     "text": [
      "   SLNO  REGISTRATION                     NAME     ROLLNO STATUS\n",
      "0     1      11913907              Molly Singh  RK19TSA01      P\n",
      "1     2      11918698      Vaishnavi choudhary  RK19TSA02      P\n",
      "2     3      12000722            Animesh Singh  RK19TSA03      P\n",
      "3     4      12003178              Yash Panwar  RK19TSA04      P\n",
      "4     5      12005300           Kallem Kruthik  RK19TSA05      P\n",
      "5     6      11902981              Sam Abraham  20BCE0986      P\n",
      "6     7      11902825  Bhimavarapu Pavan Reddy  RK19TSA07      P\n",
      "7     8      11902721         Mainam Siddhardh  RK19TSA08      P\n"
     ]
    }
   ],
   "source": [
    "import pandas as pd\n",
    "file = pd.read_csv(\"trial.csv\")\n",
    "headerl = [\"SLNO\",\"REGISTRATION\",\"NAME\",\"ROLLNO\",\"STATUS\"]\n",
    "file.to_csv(\"trial.csv\" , header = headerl ,index = False)\n",
    "print(file)\n"
   ]
  },
  {
   "cell_type": "code",
   "execution_count": 28,
   "metadata": {},
   "outputs": [
    {
     "name": "stdout",
     "output_type": "stream",
     "text": [
      "[['SLNO', 'REGISTRATION', 'NAME', 'ROLLNO', 'STATUS']]\n"
     ]
    }
   ],
   "source": [
    "import csv\n",
    "file = open(\"reg.csv\")\n",
    "file = csv.reader(file)\n",
    "rows=[]\n",
    "for row in file:\n",
    "    rows.append(row)\n",
    "    break\n",
    "\n",
    "print(rows)"
   ]
  },
  {
   "cell_type": "code",
   "execution_count": 25,
   "metadata": {},
   "outputs": [
    {
     "name": "stdout",
     "output_type": "stream",
     "text": [
      "  Organization  Established            CEO\n",
      "0       Google         1998  Sundar Pichai\n",
      "1    Microsoft         1975  Satya Nadella\n",
      "2        Nokia         1865    Rajeev Suri\n"
     ]
    }
   ],
   "source": [
    "import pandas as pd\n",
    "import csv\n",
    "\n",
    "# opening the csv file in 'w' mode\n",
    "file = open('company.csv', 'w', newline ='')\n",
    "\n",
    "with file:\n",
    "\t# identifying header\n",
    "\theader = ['Organization', 'Established', 'CEO']\n",
    "\twriter = csv.DictWriter(file, fieldnames = header)\n",
    "\t\n",
    "\t# writing data row-wise into the csv file\n",
    "\twriter.writeheader()\n",
    "\twriter.writerow({'Organization' : 'Google',\n",
    "\t\t\t\t\t'Established': '1998',\n",
    "\t\t\t\t\t'CEO': 'Sundar Pichai'})\n",
    "\twriter.writerow({'Organization' : 'Microsoft',\n",
    "\t\t\t\t\t'Established': '1975',\n",
    "\t\t\t\t\t'CEO': 'Satya Nadella'})\n",
    "\twriter.writerow({'Organization' : 'Nokia',\n",
    "\t\t\t\t\t'Established': '1865',\n",
    "\t\t\t\t\t'CEO': 'Rajeev Suri'})\n",
    "file = pd.read_csv(\"company.csv\")\n",
    "print(file)"
   ]
  },
  {
   "cell_type": "code",
   "execution_count": 31,
   "metadata": {},
   "outputs": [
    {
     "name": "stdout",
     "output_type": "stream",
     "text": [
      "   ID     Name  Marks Grade\n",
      "0  23      Ram     89     B\n",
      "1  43     Deep     97     A\n",
      "2  12     Yash     45     F\n",
      "3  13     Aman     78     C\n",
      "4  67    Arjun     56     E\n",
      "5  89   Aditya     76     C\n",
      "0  90    Akash     81     B\n",
      "1  56  Chalsea     87     B\n",
      "2  34    Divya    100     A\n",
      "3  96    Sajal     89     B\n",
      "4  45  Shubham     78     C\n"
     ]
    }
   ],
   "source": [
    "import pandas as pd\n",
    "df1 = pd.read_json('file1.json')\n",
    "df2 = pd.read_json('file2.json')\n",
    "df = pd.concat([df1,df2])\n",
    "print(df)\n",
    "df.to_csv(\"CSV.csv\",index=False)\n",
    "result = pd.read_csv(\"CSV.csv\")\n",
    "# print(result)\n"
   ]
  },
  {
   "attachments": {},
   "cell_type": "markdown",
   "metadata": {},
   "source": [
    "STRING MANUPILATION"
   ]
  },
  {
   "cell_type": "code",
   "execution_count": 35,
   "metadata": {},
   "outputs": [
    {
     "name": "stdout",
     "output_type": "stream",
     "text": [
      "Not Pallindrome\n"
     ]
    }
   ],
   "source": [
    "a = input(\"Enter the string: \")\n",
    "if(a[::-1]==a):\n",
    "    print(\"Pallindrome\")\n",
    "else:\n",
    "    print(\"Not Pallindrome\")"
   ]
  },
  {
   "cell_type": "code",
   "execution_count": 39,
   "metadata": {},
   "outputs": [
    {
     "name": "stdout",
     "output_type": "stream",
     "text": [
      "good is sam "
     ]
    }
   ],
   "source": [
    "a = input(\"Enter the String:\")\n",
    "a = a.split(\" \")[::-1]\n",
    "for i in a :\n",
    "    print(i,end=\" \")\n"
   ]
  },
  {
   "cell_type": "code",
   "execution_count": 40,
   "metadata": {},
   "outputs": [
    {
     "name": "stdout",
     "output_type": "stream",
     "text": [
      "New String :  am is a Cse Student\n"
     ]
    }
   ],
   "source": [
    "str = \"Sam is a Cse Student\"\n",
    "a = int(input(\"Enter the index to be removed: \"))\n",
    "b=\"\"\n",
    "for i in range(len(str)):\n",
    "    if(i == a):\n",
    "        continue\n",
    "    else:\n",
    "        b+=str[i]\n",
    "print(\"New String : \",b)\n"
   ]
  },
  {
   "cell_type": "code",
   "execution_count": 48,
   "metadata": {},
   "outputs": [
    {
     "name": "stdout",
     "output_type": "stream",
     "text": [
      "Length 1 =  17\n",
      "Length 2 =  17\n",
      "Length 3 =  17\n",
      "Length 4 =  17\n"
     ]
    }
   ],
   "source": [
    "str = \"Sam Abraham joshy\"\n",
    "print(\"Length 1 = \",len(str))\n",
    "\n",
    "counter=0\n",
    "for i in str:\n",
    "    counter+=1\n",
    "print(\"Length 2 = \",counter)\n",
    "\n",
    "def Len(str):\n",
    "\tcounter = 0\n",
    "\twhile str[counter:]:\n",
    "\t\tcounter += 1\n",
    "\treturn counter\n",
    "print(\"Length 3 = \",Len(str))\n",
    "\n",
    " \n",
    "def Len1(string):\n",
    "    return sum( 1 for i in string)\n",
    " \n",
    "print(\"Length 4 = \",Len1(str))\n",
    "\n"
   ]
  },
  {
   "cell_type": "code",
   "execution_count": 53,
   "metadata": {},
   "outputs": [
    {
     "name": "stdout",
     "output_type": "stream",
     "text": [
      "hi Helloo "
     ]
    }
   ],
   "source": [
    "a = \"Sam hi Abraham joshy Helloo\"\n",
    "a = a.split(\" \")\n",
    "for i in a : \n",
    "    if(len(i)%2 == 0):\n",
    "        print(i ,end=\" \")\n"
   ]
  }
 ],
 "metadata": {
  "kernelspec": {
   "display_name": "Python 3.8.5 32-bit",
   "language": "python",
   "name": "python3"
  },
  "language_info": {
   "codemirror_mode": {
    "name": "ipython",
    "version": 3
   },
   "file_extension": ".py",
   "mimetype": "text/x-python",
   "name": "python",
   "nbconvert_exporter": "python",
   "pygments_lexer": "ipython3",
   "version": "3.8.5 (tags/v3.8.5:580fbb0, Jul 20 2020, 15:43:08) [MSC v.1926 32 bit (Intel)]"
  },
  "orig_nbformat": 4,
  "vscode": {
   "interpreter": {
    "hash": "8ed999c28bc32721ac51a38ca1a57016e41ebd3526a013e738b73c17d9f87e0e"
   }
  }
 },
 "nbformat": 4,
 "nbformat_minor": 2
}
