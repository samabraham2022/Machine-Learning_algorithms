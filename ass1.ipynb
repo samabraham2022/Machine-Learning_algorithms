{
 "cells": [
  {
   "attachments": {},
   "cell_type": "markdown",
   "metadata": {},
   "source": [
    "1. Create an array of 6 zeros\n",
    "2. Create an array of 6 ones\n",
    "3. Create an array of 6 fives\n"
   ]
  },
  {
   "cell_type": "code",
   "execution_count": 2,
   "metadata": {},
   "outputs": [
    {
     "name": "stdout",
     "output_type": "stream",
     "text": [
      "[0. 0. 0. 0. 0. 0.]\n",
      "[1. 1. 1. 1. 1. 1.]\n",
      "[5. 5. 5. 5. 5. 5.]\n"
     ]
    }
   ],
   "source": [
    "import numpy as np\n",
    "arr1 = np.zeros(6)\n",
    "print(arr1)\n",
    "arr2 = np.ones(6)\n",
    "print(arr2)\n",
    "arr3 = np.ones(6)*5\n",
    "print(arr3)"
   ]
  },
  {
   "attachments": {},
   "cell_type": "markdown",
   "metadata": {},
   "source": [
    "4. Create an array of integers from 1 to 99\n",
    "5. Create an array of all the odd integers ranging from 1 to 99"
   ]
  },
  {
   "cell_type": "code",
   "execution_count": 3,
   "metadata": {},
   "outputs": [
    {
     "name": "stdout",
     "output_type": "stream",
     "text": [
      "Array 1 to 99 = [ 1  2  3  4  5  6  7  8  9 10 11 12 13 14 15 16 17 18 19 20 21 22 23 24\n",
      " 25 26 27 28 29 30 31 32 33 34 35 36 37 38 39 40 41 42 43 44 45 46 47 48\n",
      " 49 50 51 52 53 54 55 56 57 58 59 60 61 62 63 64 65 66 67 68 69 70 71 72\n",
      " 73 74 75 76 77 78 79 80 81 82 83 84 85 86 87 88 89 90 91 92 93 94 95 96\n",
      " 97 98]\n",
      "\n",
      "\n",
      "Array 1 to 99 odd =[ 1  3  5  7  9 11 13 15 17 19 21 23 25 27 29 31 33 35 37 39 41 43 45 47\n",
      " 49 51 53 55 57 59 61 63 65 67 69 71 73 75 77 79 81 83 85 87 89 91 93 95\n",
      " 97]\n"
     ]
    }
   ],
   "source": [
    "arr = np.arange(1,99)\n",
    "print(\"Array 1 to 99 = \",end=\"\")\n",
    "print(arr)\n",
    "print()\n",
    "print()\n",
    "print(\"Array 1 to 99 odd =\" ,end=\"\")\n",
    "arr4 = np.arange(1,99,2)\n",
    "print(arr4)"
   ]
  },
  {
   "attachments": {},
   "cell_type": "markdown",
   "metadata": {},
   "source": [
    "6. Create a 2X2 matrix filled with values from 1 to 4\n",
    "7. Create a 3X3 matrix filled with values from 9 to 17"
   ]
  },
  {
   "cell_type": "code",
   "execution_count": 4,
   "metadata": {},
   "outputs": [
    {
     "name": "stdout",
     "output_type": "stream",
     "text": [
      "2 x 2 = [[1 2]\n",
      " [3 4]]\n",
      "\n",
      "\n",
      "3 x 3 = [[ 9 10 11]\n",
      " [12 13 14]\n",
      " [15 16 17]]\n"
     ]
    }
   ],
   "source": [
    "mat = np.arange(1,5).reshape((2,2))\n",
    "print(\"2 x 2 = \",end=\"\")\n",
    "print(mat)\n",
    "print()\n",
    "print()\n",
    "mat1  = np.arange(9,18).reshape((3,3))\n",
    "print(\"3 x 3 = \",end=\"\")\n",
    "print(mat1)"
   ]
  },
  {
   "attachments": {},
   "cell_type": "markdown",
   "metadata": {},
   "source": [
    "8. Make an identity matrix of 4X4\n",
    "9. With the help of Numpy generate a random nos in between 0 to 1\n",
    "10. Create 10 points that are space linearly from each."
   ]
  },
  {
   "cell_type": "code",
   "execution_count": 5,
   "metadata": {},
   "outputs": [
    {
     "name": "stdout",
     "output_type": "stream",
     "text": [
      "Identity matrix =  [[1. 0. 0. 0.]\n",
      " [0. 1. 0. 0.]\n",
      " [0. 0. 1. 0.]\n",
      " [0. 0. 0. 1.]]\n",
      "\n",
      "\n",
      "Random between 0 and 1 =  1\n",
      "\n",
      "Equal spaces between 0 to 1 =  [0.         0.11111111 0.22222222 0.33333333 0.44444444 0.55555556\n",
      " 0.66666667 0.77777778 0.88888889 1.        ]\n"
     ]
    }
   ],
   "source": [
    "mat = np.eye(4)\n",
    "print(\"Identity matrix = \",mat)\n",
    "print()\n",
    "print()\n",
    "rand = np.random.randint(0,2)\n",
    "print(\"Random between 0 and 1 = \",rand)\n",
    "print()\n",
    "lin = np.linspace(0,1,10)\n",
    "print(\"Equal spaces between 0 to 1 = \",lin)"
   ]
  },
  {
   "attachments": {},
   "cell_type": "markdown",
   "metadata": {},
   "source": [
    "11. Compare two 3d array and display the results in terms of true and false.\n"
   ]
  },
  {
   "cell_type": "code",
   "execution_count": 142,
   "metadata": {},
   "outputs": [
    {
     "name": "stdout",
     "output_type": "stream",
     "text": [
      "[[12 14 13]\n",
      " [13 14 10]\n",
      " [10 10 10]]\n",
      "\n",
      "[[11 13 11]\n",
      " [14 14 10]\n",
      " [10 11 12]]\n",
      "\n",
      "[[False False False]\n",
      " [False  True  True]\n",
      " [ True False False]]\n"
     ]
    }
   ],
   "source": [
    "a = np.random.randint(10,15,size=(3,3))\n",
    "b = np.random.randint(10,15,size=(3,3))\n",
    "print(a)\n",
    "print()\n",
    "print(b)\n",
    "print()\n",
    "print(a==b)\n"
   ]
  },
  {
   "attachments": {},
   "cell_type": "markdown",
   "metadata": {},
   "source": [
    "12. Create a null vector of size 20 where the 6th value should be updated as 5.\n"
   ]
  },
  {
   "cell_type": "code",
   "execution_count": 6,
   "metadata": {},
   "outputs": [
    {
     "name": "stdout",
     "output_type": "stream",
     "text": [
      "Before changing Values =  [0. 0. 0. 0. 0. 0. 0. 0. 0. 0. 0. 0. 0. 0. 0. 0. 0. 0. 0. 0.]\n",
      "After changing Values =  [0. 0. 0. 0. 0. 0. 5. 0. 0. 0. 0. 0. 0. 0. 0. 0. 0. 0. 0. 0.]\n"
     ]
    }
   ],
   "source": [
    "arr = np.zeros(20)\n",
    "print(\"Before changing Values = \",arr)\n",
    "arr[6] = 5\n",
    "print(\"After changing Values = \",arr)"
   ]
  },
  {
   "attachments": {},
   "cell_type": "markdown",
   "metadata": {},
   "source": [
    "13. Reverse an array of size 100 using numpy.\n"
   ]
  },
  {
   "cell_type": "code",
   "execution_count": 7,
   "metadata": {},
   "outputs": [
    {
     "name": "stdout",
     "output_type": "stream",
     "text": [
      "Array before Reverse =  [[ 7 33  9 44 17 12 21 23 37 22  1 38 30 21 33 19 25 11 24  8 12 46 32 25\n",
      "   8 38  1 40  6  7 15 37 23 24 10 42 35 20 37 33  2 49  8 14 28 32 14 19\n",
      "  37 20]]\n",
      "\n",
      "Array after reverse =  [[20 37 19 14 32 28 14  8 49  2 33 37 20 35 42 10 24 23 37 15  7  6 40  1\n",
      "  38  8 25 32 46 12  8 24 11 25 19 33 21 30 38  1 22 37 23 21 12 17 44  9\n",
      "  33  7]]\n"
     ]
    }
   ],
   "source": [
    "arr = np.random.randint(0,50,size = (1,50))\n",
    "print(\"Array before Reverse = \",arr)\n",
    "arr = np.flip(arr)\n",
    "print()\n",
    "print(\"Array after reverse = \",arr)"
   ]
  },
  {
   "attachments": {},
   "cell_type": "markdown",
   "metadata": {},
   "source": [
    "14. Find the minimum and maximum values of a 20X20 array using numpy.\n"
   ]
  },
  {
   "cell_type": "code",
   "execution_count": 8,
   "metadata": {},
   "outputs": [
    {
     "name": "stdout",
     "output_type": "stream",
     "text": [
      "Array =  [[26 46 72 34 48 34 94 50 80 34 99 51 22  1  5 61 25 17 90 76]\n",
      " [96 56 43 98 67 97  2 66 64  3 68 54 25 58 61 73 61 58  5 70]\n",
      " [83 82 97 33 89 70 52 56 87  7 14 18 62 28 60 38 80 92 38 56]\n",
      " [99 94 87 35 14 28 57 10 32 92 53 51 95 90 84 10 86 93 99 65]\n",
      " [49 84 26 33 62 95 29  3 32 68  3  1 70  2 16 13  0 17 44 49]\n",
      " [74 33 17 44 70 55 17 23 80 55 18 30 35 95 15 68 64 27 83 80]\n",
      " [60 28 28 89 19 62 42 83 93 99 63  4 70 40 59 66 96 91 13 17]\n",
      " [53 83 17 82 89 86 76 48 52 42 55 15 26 22 79 20  1 53 16  0]\n",
      " [76 33 79 92 39 92 83 53 78 28 46 15 61 67 68 42 44 63  1 30]\n",
      " [69 36 17 50 37 57 11 77 65 17 31 27  8  9 46 37 93 34 54 10]\n",
      " [75 57 36  2 74 82 22 40 92 81 96 95 60 75  4 63 18 76 41 80]\n",
      " [81 93 68  2 84 10 42 68 98 95 94  5 56 17 20 86 35 92 44 13]\n",
      " [35 17 89  4 26 64 56 18  6 57 69 21 17 37 56 33 28 38 25  1]\n",
      " [99 31 44 82  1 47 76 57 94 58  9 60 37 63 60  6 15 39 13 55]\n",
      " [14 86 67  2 58 72 74 89  9  6 47 63 12 83 93 97 87 97 63 92]\n",
      " [86 96  2 28 26 64 82 29 22 62 66 12 56 36 31 18 74 73 71 94]\n",
      " [16  0 58 28 64 29 80  5 90 41 55 29 85 84 94 20 24 93 32 24]\n",
      " [44 86 65 14 68 66 77 11 29 99 27 99 36 41 54 69 69 89 95 55]\n",
      " [95 17 63 80 42 13 75 80 30 70 59 43 26  7 16 46 41 47 70 31]\n",
      " [17 77 28 71 60 88 43 28 72 97 75 30 65 23 33 39 74  8 91 81]]\n",
      "Maximum =  99\n",
      "Minimum =  0\n"
     ]
    }
   ],
   "source": [
    "arr = np.random.randint(0,100,size=(20,20))\n",
    "print(\"Array = \" , arr)\n",
    "print(\"Maximum = \",np.max(arr))\n",
    "print(\"Minimum = \",np.min(arr))\n"
   ]
  },
  {
   "attachments": {},
   "cell_type": "markdown",
   "metadata": {},
   "source": [
    "15. Find mean value of a randomly generated array of size 50."
   ]
  },
  {
   "cell_type": "code",
   "execution_count": 9,
   "metadata": {},
   "outputs": [
    {
     "name": "stdout",
     "output_type": "stream",
     "text": [
      "Array =  [[70 66 64  5 51 82 40 81 32 99 69 91 90 43 60 26 68 99 50  7 47  8 43 43\n",
      "  76 89 81 74  4 21 23  4 55 78 28 85 68 51 72 23 80 67 19 89 46 96 98 41\n",
      "  29 89]]\n",
      "Mean =  56.4\n"
     ]
    }
   ],
   "source": [
    "arr = np.random.randint(0,100,size=(1,50))\n",
    "print(\"Array = \",arr)\n",
    "print(\"Mean = \",np.mean(arr))\n"
   ]
  },
  {
   "attachments": {},
   "cell_type": "markdown",
   "metadata": {},
   "source": [
    "16. “ A 20 X20 array filled with zeros at all borders and all 1’s inside”-create such array."
   ]
  },
  {
   "cell_type": "code",
   "execution_count": 10,
   "metadata": {},
   "outputs": [
    {
     "name": "stdout",
     "output_type": "stream",
     "text": [
      "[[1. 1. 1. 1. 1. 1. 1. 1. 1. 1. 1. 1. 1. 1. 1. 1. 1. 1. 1. 1.]\n",
      " [1. 0. 0. 0. 0. 0. 0. 0. 0. 0. 0. 0. 0. 0. 0. 0. 0. 0. 0. 1.]\n",
      " [1. 0. 0. 0. 0. 0. 0. 0. 0. 0. 0. 0. 0. 0. 0. 0. 0. 0. 0. 1.]\n",
      " [1. 0. 0. 0. 0. 0. 0. 0. 0. 0. 0. 0. 0. 0. 0. 0. 0. 0. 0. 1.]\n",
      " [1. 0. 0. 0. 0. 0. 0. 0. 0. 0. 0. 0. 0. 0. 0. 0. 0. 0. 0. 1.]\n",
      " [1. 0. 0. 0. 0. 0. 0. 0. 0. 0. 0. 0. 0. 0. 0. 0. 0. 0. 0. 1.]\n",
      " [1. 0. 0. 0. 0. 0. 0. 0. 0. 0. 0. 0. 0. 0. 0. 0. 0. 0. 0. 1.]\n",
      " [1. 0. 0. 0. 0. 0. 0. 0. 0. 0. 0. 0. 0. 0. 0. 0. 0. 0. 0. 1.]\n",
      " [1. 0. 0. 0. 0. 0. 0. 0. 0. 0. 0. 0. 0. 0. 0. 0. 0. 0. 0. 1.]\n",
      " [1. 0. 0. 0. 0. 0. 0. 0. 0. 0. 0. 0. 0. 0. 0. 0. 0. 0. 0. 1.]\n",
      " [1. 0. 0. 0. 0. 0. 0. 0. 0. 0. 0. 0. 0. 0. 0. 0. 0. 0. 0. 1.]\n",
      " [1. 0. 0. 0. 0. 0. 0. 0. 0. 0. 0. 0. 0. 0. 0. 0. 0. 0. 0. 1.]\n",
      " [1. 0. 0. 0. 0. 0. 0. 0. 0. 0. 0. 0. 0. 0. 0. 0. 0. 0. 0. 1.]\n",
      " [1. 0. 0. 0. 0. 0. 0. 0. 0. 0. 0. 0. 0. 0. 0. 0. 0. 0. 0. 1.]\n",
      " [1. 0. 0. 0. 0. 0. 0. 0. 0. 0. 0. 0. 0. 0. 0. 0. 0. 0. 0. 1.]\n",
      " [1. 0. 0. 0. 0. 0. 0. 0. 0. 0. 0. 0. 0. 0. 0. 0. 0. 0. 0. 1.]\n",
      " [1. 0. 0. 0. 0. 0. 0. 0. 0. 0. 0. 0. 0. 0. 0. 0. 0. 0. 0. 1.]\n",
      " [1. 0. 0. 0. 0. 0. 0. 0. 0. 0. 0. 0. 0. 0. 0. 0. 0. 0. 0. 1.]\n",
      " [1. 0. 0. 0. 0. 0. 0. 0. 0. 0. 0. 0. 0. 0. 0. 0. 0. 0. 0. 1.]\n",
      " [1. 1. 1. 1. 1. 1. 1. 1. 1. 1. 1. 1. 1. 1. 1. 1. 1. 1. 1. 1.]]\n"
     ]
    }
   ],
   "source": [
    "arr = np.ones((20,20))\n",
    "arr[1:-1,1:-1] = 0\n",
    "\n",
    "print(arr)"
   ]
  },
  {
   "attachments": {},
   "cell_type": "markdown",
   "metadata": {},
   "source": [
    "17. Create an array of size 10X10 with 10 element valued as nan"
   ]
  },
  {
   "cell_type": "code",
   "execution_count": 11,
   "metadata": {},
   "outputs": [
    {
     "name": "stdout",
     "output_type": "stream",
     "text": [
      "[[nan nan nan nan nan nan nan nan nan nan]\n",
      " [ 1.  1.  1.  1.  1.  1.  1.  1.  1.  1.]\n",
      " [ 1.  1.  1.  1.  1.  1.  1.  1.  1.  1.]\n",
      " [ 1.  1.  1.  1.  1.  1.  1.  1.  1.  1.]\n",
      " [ 1.  1.  1.  1.  1.  1.  1.  1.  1.  1.]\n",
      " [ 1.  1.  1.  1.  1.  1.  1.  1.  1.  1.]\n",
      " [ 1.  1.  1.  1.  1.  1.  1.  1.  1.  1.]\n",
      " [ 1.  1.  1.  1.  1.  1.  1.  1.  1.  1.]\n",
      " [ 1.  1.  1.  1.  1.  1.  1.  1.  1.  1.]\n",
      " [ 1.  1.  1.  1.  1.  1.  1.  1.  1.  1.]]\n"
     ]
    }
   ],
   "source": [
    "arr = np.full((10,10),np.nan)\n",
    "np.append(arr,np.random.randint(0,10,size = (9,10)))\n",
    "arr[1:10] = 1\n",
    "print(arr)"
   ]
  },
  {
   "attachments": {},
   "cell_type": "markdown",
   "metadata": {},
   "source": [
    "18. Create a 4X4 matrix and the values just below the diagonal is 9 8 7"
   ]
  },
  {
   "cell_type": "code",
   "execution_count": 12,
   "metadata": {},
   "outputs": [
    {
     "name": "stdout",
     "output_type": "stream",
     "text": [
      "[[0 0 0 0]\n",
      " [9 0 0 0]\n",
      " [0 8 0 0]\n",
      " [0 0 7 0]]\n"
     ]
    }
   ],
   "source": [
    "arr = np.diag(9-np.arange(3),k=-1)\n",
    "print(arr)"
   ]
  },
  {
   "attachments": {},
   "cell_type": "markdown",
   "metadata": {},
   "source": [
    "19. Create a check board pattern using numpy"
   ]
  },
  {
   "cell_type": "code",
   "execution_count": 13,
   "metadata": {},
   "outputs": [
    {
     "name": "stdout",
     "output_type": "stream",
     "text": [
      "[[0. 1. 0. 1. 0. 1. 0. 1.]\n",
      " [1. 0. 1. 0. 1. 0. 1. 0.]\n",
      " [0. 1. 0. 1. 0. 1. 0. 1.]\n",
      " [1. 0. 1. 0. 1. 0. 1. 0.]\n",
      " [0. 1. 0. 1. 0. 1. 0. 1.]\n",
      " [1. 0. 1. 0. 1. 0. 1. 0.]\n",
      " [0. 1. 0. 1. 0. 1. 0. 1.]\n",
      " [1. 0. 1. 0. 1. 0. 1. 0.]]\n"
     ]
    }
   ],
   "source": [
    "arr = np.zeros((8,8))\n",
    "arr[1::2,::2] = 1\n",
    "arr[::2,1::2] = 1\n",
    "print(arr)\n"
   ]
  },
  {
   "attachments": {},
   "cell_type": "markdown",
   "metadata": {},
   "source": [
    "20. Print the dtype of int32 and float64 data type."
   ]
  },
  {
   "cell_type": "code",
   "execution_count": 14,
   "metadata": {},
   "outputs": [
    {
     "name": "stdout",
     "output_type": "stream",
     "text": [
      "[2 8 6 3 3 6 5 5 3 8] Dtype =  int32\n",
      "[0.         0.33333333 0.66666667 1.         1.33333333 1.66666667\n",
      " 2.         2.33333333 2.66666667 3.        ] Dtype =  float64\n"
     ]
    }
   ],
   "source": [
    "arr = np.random.randint(1,10,size = 10)\n",
    "print(arr ,\"Dtype = \", arr.dtype)\n",
    "arr = np.linspace(0,3,10)\n",
    "print(arr,\"Dtype = \", arr.dtype)"
   ]
  },
  {
   "attachments": {},
   "cell_type": "markdown",
   "metadata": {},
   "source": [
    "Pandas Practice Problems"
   ]
  },
  {
   "attachments": {},
   "cell_type": "markdown",
   "metadata": {},
   "source": [
    "1. Create a pandas Series using lists and dictionaries? \n"
   ]
  },
  {
   "cell_type": "code",
   "execution_count": 15,
   "metadata": {},
   "outputs": [
    {
     "name": "stdout",
     "output_type": "stream",
     "text": [
      "Using lists:\n",
      "0    1.4\n",
      "1    2.4\n",
      "2    3.1\n",
      "3    2.3\n",
      "dtype: float64\n",
      "\n",
      "Using dictionary\n",
      "India    New Delhi\n",
      "Japan        Tokyo\n",
      "Uk          London\n",
      "dtype: object\n"
     ]
    }
   ],
   "source": [
    "import pandas as pd\n",
    "ser1 = pd.Series([1.4,2.4,3.1,2.3])\n",
    "print(\"Using lists:\")\n",
    "print(ser1)\n",
    "print()\n",
    "print(\"Using dictionary\")\n",
    "ser2 = pd.Series({\"India\":\"New Delhi\",\"Japan\":\"Tokyo\",\"Uk\":\"London\"})\n",
    "print(ser2)"
   ]
  },
  {
   "attachments": {},
   "cell_type": "markdown",
   "metadata": {},
   "source": [
    "2. Create series using NumPy functions in Pandas? \n"
   ]
  },
  {
   "cell_type": "code",
   "execution_count": 16,
   "metadata": {},
   "outputs": [
    {
     "name": "stdout",
     "output_type": "stream",
     "text": [
      "0     1.00\n",
      "1     3.25\n",
      "2     5.50\n",
      "3     7.75\n",
      "4    10.00\n",
      "dtype: float64\n"
     ]
    }
   ],
   "source": [
    "ser = pd.Series(np.linspace(1,10,5))\n",
    "print(ser)"
   ]
  },
  {
   "attachments": {},
   "cell_type": "markdown",
   "metadata": {},
   "source": [
    "3. Find index and values of series in Pandas? "
   ]
  },
  {
   "cell_type": "code",
   "execution_count": 17,
   "metadata": {},
   "outputs": [
    {
     "name": "stdout",
     "output_type": "stream",
     "text": [
      "India    New Delhi\n",
      "Japan        Tokyo\n",
      "Uk          London\n",
      "dtype: object\n",
      "\n",
      "['New Delhi' 'Tokyo' 'London']\n",
      "\n",
      "Index(['India', 'Japan', 'Uk'], dtype='object')\n"
     ]
    }
   ],
   "source": [
    "ser2 = pd.Series({\"India\":\"New Delhi\",\"Japan\":\"Tokyo\",\"Uk\":\"London\"})\n",
    "print(ser2)\n",
    "print()\n",
    "print(ser2.values)\n",
    "print()\n",
    "print(ser2.index)"
   ]
  },
  {
   "attachments": {},
   "cell_type": "markdown",
   "metadata": {},
   "source": [
    "4. How to specify an index while creating Series in Pandas? Find Length Size and Shape of a\n",
    "Series in Pandas?"
   ]
  },
  {
   "cell_type": "code",
   "execution_count": 25,
   "metadata": {},
   "outputs": [
    {
     "name": "stdout",
     "output_type": "stream",
     "text": [
      "Australia               Canberra\n",
      "Iceland                Reykjavik\n",
      "India                  New Delhi\n",
      "United Kingdom            London\n",
      "United States     Washington D.C\n",
      "dtype: object\n",
      "\n",
      "Length =  5\n",
      "Size =  5\n",
      "Shape =  (5,)\n"
     ]
    }
   ],
   "source": [
    "a = ['Australia', 'Iceland', 'India', 'United Kingdom', 'United States']\n",
    "b = ['Canberra', 'Reykjavik', 'New Delhi', 'London', 'Washington D.C']\n",
    "s = pd.Series(b, index=a)\n",
    "print(s)\n",
    "print()\n",
    "print(\"Length = \",len(s))\n",
    "print(\"Size = \",s.size)\n",
    "print(\"Shape = \",s.shape)\n"
   ]
  },
  {
   "attachments": {},
   "cell_type": "markdown",
   "metadata": {},
   "source": [
    "5. Find the first or last few rows from a Series in Pandas?"
   ]
  },
  {
   "cell_type": "code",
   "execution_count": 34,
   "metadata": {},
   "outputs": [
    {
     "name": "stdout",
     "output_type": "stream",
     "text": [
      "Head =  Australia    Canberra\n",
      "dtype: object\n",
      "\n",
      "Tail =  United States    Washington D.C\n",
      "dtype: object\n"
     ]
    }
   ],
   "source": [
    "a = ['Australia', 'Iceland', 'India', 'United Kingdom', 'United States']\n",
    "b = ['Canberra', 'Reykjavik', 'New Delhi', 'London', 'Washington D.C']\n",
    "s = pd.Series(b, index=a)\n",
    "print(\"Head = \",s.head(1))\n",
    "print()\n",
    "print(\"Tail = \",s.tail(1))\n"
   ]
  },
  {
   "attachments": {},
   "cell_type": "markdown",
   "metadata": {},
   "source": [
    "6. Demonstrate possible missing value analysis approaches using any real world data.\n"
   ]
  },
  {
   "cell_type": "code",
   "execution_count": 55,
   "metadata": {},
   "outputs": [
    {
     "name": "stdout",
     "output_type": "stream",
     "text": [
      "    TK104  TK105  TK107\n",
      "0   254.0  263.0    338\n",
      "1   440.0    NaN    470\n",
      "2   501.0    NaN    558\n",
      "3   368.0  451.0    426\n",
      "4     NaN  403.0    306\n",
      "5     NaN  690.0    558\n",
      "6     NaN  460.0    358\n",
      "7   697.0  709.0    733\n",
      "8   697.0  709.0    733\n",
      "9   476.0  542.0    539\n",
      "10  188.0  223.0    240\n",
      "11  525.0  659.0    628\n",
      "\n",
      "Number of Null in the file:\n",
      "TK104    3\n",
      "TK105    2\n",
      "TK107    0\n",
      "dtype: int64\n",
      "\n",
      "New file with all Nan to 0:\n",
      "    TK104  TK105  TK107\n",
      "0   254.0  263.0    338\n",
      "1   440.0    0.0    470\n",
      "2   501.0    0.0    558\n",
      "3   368.0  451.0    426\n",
      "4     0.0  403.0    306\n",
      "5     0.0  690.0    558\n",
      "6     0.0  460.0    358\n",
      "7   697.0  709.0    733\n",
      "8   697.0  709.0    733\n",
      "9   476.0  542.0    539\n",
      "10  188.0  223.0    240\n",
      "11  525.0  659.0    628\n"
     ]
    }
   ],
   "source": [
    "file = pd.read_csv(\"britt.csv\")\n",
    "print(file)\n",
    "print()\n",
    "print(\"Number of Null in the file:\")\n",
    "print(file.isnull().sum())\n",
    "new_file = file.fillna(0)\n",
    "print()\n",
    "print(\"New file with all Nan to 0:\")\n",
    "print(new_file)"
   ]
  },
  {
   "attachments": {},
   "cell_type": "markdown",
   "metadata": {},
   "source": [
    "7. Checking the duplicate rows and columns using pandas."
   ]
  },
  {
   "cell_type": "code",
   "execution_count": 56,
   "metadata": {},
   "outputs": [
    {
     "name": "stdout",
     "output_type": "stream",
     "text": [
      "0     False\n",
      "1     False\n",
      "2     False\n",
      "3     False\n",
      "4     False\n",
      "5     False\n",
      "6     False\n",
      "7     False\n",
      "8      True\n",
      "9     False\n",
      "10    False\n",
      "11    False\n",
      "dtype: bool\n"
     ]
    }
   ],
   "source": [
    "print(file.duplicated())"
   ]
  },
  {
   "attachments": {},
   "cell_type": "markdown",
   "metadata": {},
   "source": [
    "8. Suppose you have height and weight data for a group of people. For example: Heights are in\n",
    "feet, like 6.5, and weight is in grams, like 80000. In many machine learning situations, you\n",
    "want to normalize the data — scale the data so that the values in different columns have\n",
    "roughly the same magnitude so that large values (like the weight) don’t overwhelm smaller\n",
    "values (like the heights).\n",
    "Create a raw data of minimum 40 records of height and weight in above mentioned format\n",
    "and use MinMax Normalization to normalize the weights in the range from (-10.0 to 10) as\n",
    "well as use Z-score to normalize the weights"
   ]
  },
  {
   "cell_type": "code",
   "execution_count": 132,
   "metadata": {},
   "outputs": [
    {
     "data": {
      "text/html": [
       "<div>\n",
       "<style scoped>\n",
       "    .dataframe tbody tr th:only-of-type {\n",
       "        vertical-align: middle;\n",
       "    }\n",
       "\n",
       "    .dataframe tbody tr th {\n",
       "        vertical-align: top;\n",
       "    }\n",
       "\n",
       "    .dataframe thead th {\n",
       "        text-align: right;\n",
       "    }\n",
       "</style>\n",
       "<table border=\"1\" class=\"dataframe\">\n",
       "  <thead>\n",
       "    <tr style=\"text-align: right;\">\n",
       "      <th></th>\n",
       "      <th>Height</th>\n",
       "      <th>Weight</th>\n",
       "    </tr>\n",
       "  </thead>\n",
       "  <tbody>\n",
       "    <tr>\n",
       "      <th>0</th>\n",
       "      <td>0.804348</td>\n",
       "      <td>0.640779</td>\n",
       "    </tr>\n",
       "    <tr>\n",
       "      <th>1</th>\n",
       "      <td>0.586957</td>\n",
       "      <td>0.964805</td>\n",
       "    </tr>\n",
       "    <tr>\n",
       "      <th>2</th>\n",
       "      <td>0.239130</td>\n",
       "      <td>0.476859</td>\n",
       "    </tr>\n",
       "    <tr>\n",
       "      <th>3</th>\n",
       "      <td>1.000000</td>\n",
       "      <td>0.000000</td>\n",
       "    </tr>\n",
       "    <tr>\n",
       "      <th>4</th>\n",
       "      <td>0.500000</td>\n",
       "      <td>0.748621</td>\n",
       "    </tr>\n",
       "    <tr>\n",
       "      <th>5</th>\n",
       "      <td>0.565217</td>\n",
       "      <td>0.183803</td>\n",
       "    </tr>\n",
       "    <tr>\n",
       "      <th>6</th>\n",
       "      <td>0.413043</td>\n",
       "      <td>0.069989</td>\n",
       "    </tr>\n",
       "    <tr>\n",
       "      <th>7</th>\n",
       "      <td>0.739130</td>\n",
       "      <td>0.493773</td>\n",
       "    </tr>\n",
       "    <tr>\n",
       "      <th>8</th>\n",
       "      <td>0.847826</td>\n",
       "      <td>0.070089</td>\n",
       "    </tr>\n",
       "    <tr>\n",
       "      <th>9</th>\n",
       "      <td>0.152174</td>\n",
       "      <td>0.249666</td>\n",
       "    </tr>\n",
       "    <tr>\n",
       "      <th>10</th>\n",
       "      <td>0.434783</td>\n",
       "      <td>0.302742</td>\n",
       "    </tr>\n",
       "    <tr>\n",
       "      <th>11</th>\n",
       "      <td>0.086957</td>\n",
       "      <td>1.000000</td>\n",
       "    </tr>\n",
       "    <tr>\n",
       "      <th>12</th>\n",
       "      <td>0.021739</td>\n",
       "      <td>0.743161</td>\n",
       "    </tr>\n",
       "    <tr>\n",
       "      <th>13</th>\n",
       "      <td>0.000000</td>\n",
       "      <td>0.052642</td>\n",
       "    </tr>\n",
       "    <tr>\n",
       "      <th>14</th>\n",
       "      <td>0.217391</td>\n",
       "      <td>0.053465</td>\n",
       "    </tr>\n",
       "    <tr>\n",
       "      <th>15</th>\n",
       "      <td>0.869565</td>\n",
       "      <td>0.384630</td>\n",
       "    </tr>\n",
       "    <tr>\n",
       "      <th>16</th>\n",
       "      <td>0.739130</td>\n",
       "      <td>0.756305</td>\n",
       "    </tr>\n",
       "    <tr>\n",
       "      <th>17</th>\n",
       "      <td>0.652174</td>\n",
       "      <td>0.525287</td>\n",
       "    </tr>\n",
       "    <tr>\n",
       "      <th>18</th>\n",
       "      <td>0.804348</td>\n",
       "      <td>0.566575</td>\n",
       "    </tr>\n",
       "    <tr>\n",
       "      <th>19</th>\n",
       "      <td>0.760870</td>\n",
       "      <td>0.075616</td>\n",
       "    </tr>\n",
       "    <tr>\n",
       "      <th>20</th>\n",
       "      <td>0.456522</td>\n",
       "      <td>0.723790</td>\n",
       "    </tr>\n",
       "    <tr>\n",
       "      <th>21</th>\n",
       "      <td>0.652174</td>\n",
       "      <td>0.402922</td>\n",
       "    </tr>\n",
       "    <tr>\n",
       "      <th>22</th>\n",
       "      <td>0.478261</td>\n",
       "      <td>0.103950</td>\n",
       "    </tr>\n",
       "    <tr>\n",
       "      <th>23</th>\n",
       "      <td>0.021739</td>\n",
       "      <td>0.516491</td>\n",
       "    </tr>\n",
       "    <tr>\n",
       "      <th>24</th>\n",
       "      <td>0.478261</td>\n",
       "      <td>0.475291</td>\n",
       "    </tr>\n",
       "    <tr>\n",
       "      <th>25</th>\n",
       "      <td>0.565217</td>\n",
       "      <td>0.059025</td>\n",
       "    </tr>\n",
       "    <tr>\n",
       "      <th>26</th>\n",
       "      <td>0.521739</td>\n",
       "      <td>0.995886</td>\n",
       "    </tr>\n",
       "    <tr>\n",
       "      <th>27</th>\n",
       "      <td>0.413043</td>\n",
       "      <td>0.092641</td>\n",
       "    </tr>\n",
       "    <tr>\n",
       "      <th>28</th>\n",
       "      <td>0.586957</td>\n",
       "      <td>0.360222</td>\n",
       "    </tr>\n",
       "    <tr>\n",
       "      <th>29</th>\n",
       "      <td>0.543478</td>\n",
       "      <td>0.619918</td>\n",
       "    </tr>\n",
       "    <tr>\n",
       "      <th>30</th>\n",
       "      <td>0.565217</td>\n",
       "      <td>0.339972</td>\n",
       "    </tr>\n",
       "    <tr>\n",
       "      <th>31</th>\n",
       "      <td>0.630435</td>\n",
       "      <td>0.393648</td>\n",
       "    </tr>\n",
       "    <tr>\n",
       "      <th>32</th>\n",
       "      <td>0.739130</td>\n",
       "      <td>0.750122</td>\n",
       "    </tr>\n",
       "    <tr>\n",
       "      <th>33</th>\n",
       "      <td>0.043478</td>\n",
       "      <td>0.839116</td>\n",
       "    </tr>\n",
       "    <tr>\n",
       "      <th>34</th>\n",
       "      <td>0.260870</td>\n",
       "      <td>0.101348</td>\n",
       "    </tr>\n",
       "    <tr>\n",
       "      <th>35</th>\n",
       "      <td>0.695652</td>\n",
       "      <td>0.762454</td>\n",
       "    </tr>\n",
       "    <tr>\n",
       "      <th>36</th>\n",
       "      <td>0.913043</td>\n",
       "      <td>0.656536</td>\n",
       "    </tr>\n",
       "    <tr>\n",
       "      <th>37</th>\n",
       "      <td>0.000000</td>\n",
       "      <td>0.216206</td>\n",
       "    </tr>\n",
       "    <tr>\n",
       "      <th>38</th>\n",
       "      <td>0.239130</td>\n",
       "      <td>0.797204</td>\n",
       "    </tr>\n",
       "    <tr>\n",
       "      <th>39</th>\n",
       "      <td>0.282609</td>\n",
       "      <td>0.464438</td>\n",
       "    </tr>\n",
       "  </tbody>\n",
       "</table>\n",
       "</div>"
      ],
      "text/plain": [
       "      Height    Weight\n",
       "0   0.804348  0.640779\n",
       "1   0.586957  0.964805\n",
       "2   0.239130  0.476859\n",
       "3   1.000000  0.000000\n",
       "4   0.500000  0.748621\n",
       "5   0.565217  0.183803\n",
       "6   0.413043  0.069989\n",
       "7   0.739130  0.493773\n",
       "8   0.847826  0.070089\n",
       "9   0.152174  0.249666\n",
       "10  0.434783  0.302742\n",
       "11  0.086957  1.000000\n",
       "12  0.021739  0.743161\n",
       "13  0.000000  0.052642\n",
       "14  0.217391  0.053465\n",
       "15  0.869565  0.384630\n",
       "16  0.739130  0.756305\n",
       "17  0.652174  0.525287\n",
       "18  0.804348  0.566575\n",
       "19  0.760870  0.075616\n",
       "20  0.456522  0.723790\n",
       "21  0.652174  0.402922\n",
       "22  0.478261  0.103950\n",
       "23  0.021739  0.516491\n",
       "24  0.478261  0.475291\n",
       "25  0.565217  0.059025\n",
       "26  0.521739  0.995886\n",
       "27  0.413043  0.092641\n",
       "28  0.586957  0.360222\n",
       "29  0.543478  0.619918\n",
       "30  0.565217  0.339972\n",
       "31  0.630435  0.393648\n",
       "32  0.739130  0.750122\n",
       "33  0.043478  0.839116\n",
       "34  0.260870  0.101348\n",
       "35  0.695652  0.762454\n",
       "36  0.913043  0.656536\n",
       "37  0.000000  0.216206\n",
       "38  0.239130  0.797204\n",
       "39  0.282609  0.464438"
      ]
     },
     "execution_count": 132,
     "metadata": {},
     "output_type": "execute_result"
    }
   ],
   "source": [
    "a = np.random.randint(140,190,size = 40)\n",
    "a=a*0.0328084\n",
    "b = np.random.randint(40000,140000,size = 40)\n",
    "dict = {\"Height\":a,\"Weight\":b}\n",
    "\n",
    "def min_max(file):\n",
    "    # copy the dataframe\n",
    "    file_norm = file.copy()\n",
    "    # apply min-max scaling\n",
    "    for column in file_norm.columns:\n",
    "        file_norm[column] = (file_norm[column] - file_norm[column].min()) / (file_norm[column].max() - file_norm[column].min())\n",
    "        \n",
    "    return file_norm\n",
    "\n",
    "\n",
    "normalized = min_max(pd.DataFrame(dict))\n",
    "normalized\n"
   ]
  }
 ],
 "metadata": {
  "kernelspec": {
   "display_name": "Python 3",
   "language": "python",
   "name": "python3"
  },
  "language_info": {
   "codemirror_mode": {
    "name": "ipython",
    "version": 3
   },
   "file_extension": ".py",
   "mimetype": "text/x-python",
   "name": "python",
   "nbconvert_exporter": "python",
   "pygments_lexer": "ipython3",
   "version": "3.8.5 (tags/v3.8.5:580fbb0, Jul 20 2020, 15:43:08) [MSC v.1926 32 bit (Intel)]"
  },
  "orig_nbformat": 4,
  "vscode": {
   "interpreter": {
    "hash": "8ed999c28bc32721ac51a38ca1a57016e41ebd3526a013e738b73c17d9f87e0e"
   }
  }
 },
 "nbformat": 4,
 "nbformat_minor": 2
}
